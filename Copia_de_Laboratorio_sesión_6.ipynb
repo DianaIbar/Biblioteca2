{
  "nbformat": 4,
  "nbformat_minor": 0,
  "metadata": {
    "colab": {
      "provenance": [],
      "toc_visible": true,
      "include_colab_link": true
    },
    "kernelspec": {
      "name": "python3",
      "display_name": "Python 3"
    },
    "language_info": {
      "name": "python"
    }
  },
  "cells": [
    {
      "cell_type": "markdown",
      "metadata": {
        "id": "view-in-github",
        "colab_type": "text"
      },
      "source": [
        "<a href=\"https://colab.research.google.com/github/DianaIbar/Biblioteca2/blob/main/Copia_de_Laboratorio_sesi%C3%B3n_6.ipynb\" target=\"_parent\"><img src=\"https://colab.research.google.com/assets/colab-badge.svg\" alt=\"Open In Colab\"/></a>"
      ]
    },
    {
      "cell_type": "markdown",
      "source": [
        "# **Laboratorio 6**"
      ],
      "metadata": {
        "id": "zpxKZsMFP7dH"
      }
    },
    {
      "cell_type": "markdown",
      "source": [
        "## **Parte 2**\n",
        "\n",
        "En el segundo ejercicio de práctica debes aplicar los pasos del algoritmo describiendo, luego realizar el código en Python y pegarlo en el Word, debes anexar la captura de pantalla del resultado"
      ],
      "metadata": {
        "id": "rtcJh3V3QBvk"
      }
    },
    {
      "cell_type": "markdown",
      "source": [
        "**1.\tAlgoritmo para Preparar un Té:** Este algoritmo describe los pasos para preparar un té y lo implementamos en Python.\n",
        "\n",
        "-\tPasos:\n",
        " * Calentar agua.\n",
        " *Colocar una bolsa de té en una taza.\n",
        " *Verter agua caliente en la taza.\n",
        " *Esperar 3-5 minutos.\n",
        " *Retirar la bolsa de té y disfrutar.\n",
        "-\tCódigo:\n"
      ],
      "metadata": {
        "id": "7FH0WAUjQLK2"
      }
    },
    {
      "cell_type": "code",
      "execution_count": null,
      "metadata": {
        "id": "kz1ukGPsKsn1",
        "outputId": "7526bdb2-a362-4fc9-c820-1adc03f6e690",
        "colab": {
          "base_uri": "https://localhost:8080/"
        }
      },
      "outputs": [
        {
          "output_type": "stream",
          "name": "stdout",
          "text": [
            "Coloca la bolsa de té en la taza\n",
            "Vierte el agua caliente en la taza\n",
            "Espera 3-5 minutos\n",
            "Retira la bolsa de té y disfruta\n"
          ]
        }
      ],
      "source": [
        "# Algoritmo en código\n",
        "agua_caliente = True\n",
        "bolsa_te = True\n",
        "if agua_caliente and bolsa_te:\n",
        "        print(\"Coloca la bolsa de té en la taza\")\n",
        "        print(\"Vierte el agua caliente en la taza\")\n",
        "        print(\"Espera 3-5 minutos\")\n",
        "        print(\"Retira la bolsa de té y disfruta\")\n",
        "else:\n",
        "        print(\"No puedes preparar el té porque falta agua caliente o bolsa de te\")\n"
      ]
    },
    {
      "cell_type": "markdown",
      "source": [
        "# Variables para almacenar las notas\n",
        "notas1 = 5.0\n",
        "notas2 = 4.2\n",
        "notas3 = 3.0\n",
        "\n",
        "\n",
        "# Calcular el promedio\n",
        "promedio = (notas1 + notas2 + notas3) / 3\n",
        "print(“El promedio de las notas es:”, promedio)\n"
      ],
      "metadata": {
        "id": "M7ITXBQLRfgS"
      }
    },
    {
      "cell_type": "code",
      "source": [
        "# Variables para almacenar las notas\n",
        "notas1 = 5.0\n",
        "notas2 = 4.2\n",
        "notas3 = 3.0\n",
        "\n",
        "# Calcular El promedio\n",
        "Promedio = (notas1 + notas2 + notas3) / 3\n",
        "print(\"El promedio de la notas es:\",Promedio)\n",
        "\n",
        "\n",
        "\n",
        "\n"
      ],
      "metadata": {
        "id": "4temBw-5Smga"
      },
      "execution_count": null,
      "outputs": []
    }
  ]
}