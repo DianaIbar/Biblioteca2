{
  "nbformat": 4,
  "nbformat_minor": 0,
  "metadata": {
    "colab": {
      "provenance": [],
      "toc_visible": true,
      "include_colab_link": true
    },
    "kernelspec": {
      "name": "python3",
      "display_name": "Python 3"
    },
    "language_info": {
      "name": "python"
    }
  },
  "cells": [
    {
      "cell_type": "markdown",
      "metadata": {
        "id": "view-in-github",
        "colab_type": "text"
      },
      "source": [
        "<a href=\"https://colab.research.google.com/github/DianaIbar/Biblioteca2/blob/main/Laboratorio_sesi%C3%B3n_6.ipynb\" target=\"_parent\"><img src=\"https://colab.research.google.com/assets/colab-badge.svg\" alt=\"Open In Colab\"/></a>"
      ]
    },
    {
      "cell_type": "markdown",
      "source": [
        "# **Laboratorio 6**"
      ],
      "metadata": {
        "id": "zpxKZsMFP7dH"
      }
    },
    {
      "cell_type": "markdown",
      "source": [
        "## **Parte 2**\n",
        "\n",
        "En el segundo ejercicio de práctica debes aplicar los pasos del algoritmo describiendo, luego realizar el código en Python y pegarlo en el Word, debes anexar la captura de pantalla del resultado"
      ],
      "metadata": {
        "id": "rtcJh3V3QBvk"
      }
    },
    {
      "cell_type": "markdown",
      "source": [
        "**1.\tAlgoritmo para Preparar un Té:** Este algoritmo describe los pasos para preparar un té y lo implementamos en Python.\n",
        "\n",
        "-\tPasos:\n",
        " * Calentar agua.\n",
        " *Colocar una bolsa de té en una taza.\n",
        " *Verter agua caliente en la taza.\n",
        " *Esperar 3-5 minutos.\n",
        " *Retirar la bolsa de té y disfrutar.\n",
        "-\tCódigo:\n"
      ],
      "metadata": {
        "id": "7FH0WAUjQLK2"
      }
    },
    {
      "cell_type": "code",
      "execution_count": null,
      "metadata": {
        "id": "kz1ukGPsKsn1"
      },
      "outputs": [],
      "source": [
        "# Algoritmo en código\n",
        "agua_caliente = True\n",
        "bolsa_te = True\n",
        "if agua_caliente and bolsa_te:\n",
        " print(\"Coloca la bolsa de té en la taza\")\n",
        " print(\"Vierte el agua caliente en la taza\")\n",
        " print(\"Espera 3-5 minutos\")\n",
        " print(\"Retira la bolsa de té y disfruta\")\n",
        "else:\n",
        " print(\"No puedes preparar el té porque falta agua caliente o bolsa de\n",
        "té.\")"
      ]
    },
    {
      "cell_type": "markdown",
      "source": [
        "**2.\tCálculo del Promedio de Notas:** Utilizar variables y tipos de datos para almacenar las notas de un estudiante, y un operador aritmético para calcular el promedio."
      ],
      "metadata": {
        "id": "SmovPtq2Q-b3"
      }
    },
    {
      "cell_type": "code",
      "source": [
        "# Variables para almacenar las notas\n",
        "notas1 = 5.0\n",
        "notas2 = 4.2\n",
        "notas3 = 3.0\n",
        "\n",
        "# Calcular el promedio\n",
        "promedio = (notas1 + notas2 + notas3) / 3\n",
        "print(\"El promedio de las notas es:\", promedio)\n",
        "\n"
      ],
      "metadata": {
        "id": "M7ITXBQLRfgS",
        "outputId": "8bb891ea-46ab-4344-c3eb-fb01ba0cfb48",
        "colab": {
          "base_uri": "https://localhost:8080/"
        }
      },
      "execution_count": 1,
      "outputs": [
        {
          "output_type": "stream",
          "name": "stdout",
          "text": [
            "El promedio de las notas es: 4.066666666666666\n"
          ]
        }
      ]
    },
    {
      "cell_type": "markdown",
      "source": [
        "**3.\tVerificar si un Número es Par o Impar:** Utiliza condicionales para verificar si un número es par o impar, y operadores para realizar el cálculo."
      ],
      "metadata": {
        "id": "_pjkhZpERDio"
      }
    },
    {
      "cell_type": "code",
      "source": [
        "#solicitar El numero al usuario\n",
        "\n",
        "numero = int(input(\"ingrese un numero:\"))\n",
        "#verificar si es par o impar\n",
        "\n",
        "if numero % 2 == 0:\n",
        "    print(\"El numero es par\")\n",
        "else:\n",
        "    print(\"El numero es impar\")\n",
        "\n"
      ],
      "metadata": {
        "id": "pQdC0ceHRgHs",
        "outputId": "f3b05fa3-707e-4742-ea83-08583d32a069",
        "colab": {
          "base_uri": "https://localhost:8080/"
        }
      },
      "execution_count": 15,
      "outputs": [
        {
          "output_type": "stream",
          "name": "stdout",
          "text": [
            "ingrese un numero:9\n",
            "El numero es impar\n"
          ]
        }
      ]
    },
    {
      "cell_type": "markdown",
      "source": [
        "**4.\tBucle for para Imprimir Números del 1 al 5:** Usar un bucle for para mostrar los números del 1 al 5 y combinar los operadores aritméticos para mostrar si son pares o impares."
      ],
      "metadata": {
        "id": "k6uA-1Z-RGwc"
      }
    },
    {
      "cell_type": "code",
      "source": [
        "# usar un bucle for para recorrer los números del 1 al 5\n",
        "\n",
        "for num in range(1, 6):\n",
        "  if num % 2 == 0:\n",
        "      print(f\"{num} es par\")\n",
        "  else:\n",
        "      print(f\"{num} es impar\")\n",
        "\n",
        "\n"
      ],
      "metadata": {
        "id": "O-Qk1zTpRgfE",
        "outputId": "cc82b28e-5df4-40dc-b60e-d896a9c886e2",
        "colab": {
          "base_uri": "https://localhost:8080/"
        }
      },
      "execution_count": 16,
      "outputs": [
        {
          "output_type": "stream",
          "name": "stdout",
          "text": [
            "1 es impar\n",
            "2 es par\n",
            "3 es impar\n",
            "4 es par\n",
            "5 es impar\n"
          ]
        }
      ]
    },
    {
      "cell_type": "markdown",
      "source": [
        "**5.\tConvertir Grados Celsius a Fahrenheit**: Usar una función para convertir grados Celsius a Fahrenheit. La fórmula para la conversión es Fahrenheit = (Celsius * 9/5) + 32."
      ],
      "metadata": {
        "id": "Nz2PBiLeRLgm"
      }
    },
    {
      "cell_type": "code",
      "source": [
        "#Definir la función para convertir celsius a fahrenheit\n",
        "def convertir_a_fahrenheit(celsius):\n",
        "    fahrenheit = (celsius * 9/5) + 32\n",
        "    return fahrenheit\n",
        "\n",
        "    #Solicitar la temperatura en Celsius al usuario\n",
        "celsius = float(input(\"ingrese la temperatura en grados Celsius:\"))\n",
        "\n",
        "#Convertir la temperatura a Fahrenheit\n",
        "resultado = convertir_a_fahrenheit(celsius)\n",
        "#Mostrar la temperatura en fahrenheit\n",
        "print(f\"La temperatura en grados fahrenheit es: {resultado}\")\n"
      ],
      "metadata": {
        "id": "_2kncrvtRg1f",
        "outputId": "9c31713b-68e6-43cf-fb17-adcb8f05c0f5",
        "colab": {
          "base_uri": "https://localhost:8080/"
        }
      },
      "execution_count": 18,
      "outputs": [
        {
          "output_type": "stream",
          "name": "stdout",
          "text": [
            "ingrese la temperatura en grados Celsius:20\n",
            "La temperatura en grados fahrenheit es: 68.0\n"
          ]
        }
      ]
    },
    {
      "cell_type": "markdown",
      "source": [
        "**6.\tContar la Cantidad de Vocales en una Cadena de Texto:** Utilizar un bucle for y una condicional para contar cuántas vocales hay en una cadena de texto ingresada por el usuario."
      ],
      "metadata": {
        "id": "6FQamkdLRO2m"
      }
    },
    {
      "cell_type": "code",
      "source": [
        "#Solicitar una cadena de texto\n",
        "texto = input(\"ingrese una frase:\")\n",
        "\n",
        "#inicializar el contador de vocales\n",
        "contador_vocales = 0\n",
        "\n",
        "#Recorrerer cada carácter del texto\n",
        "for letra in texto.lower():\n",
        "  if letra in \"aeiou\":\n",
        "   contador_vocales += 1\n",
        "\n",
        "#Mostrar el resultado\n",
        "print(f\"El numero de vocales en la frase es: {contador_vocales} vocales.\")\n",
        "#\n",
        "\n"
      ],
      "metadata": {
        "id": "v1nIfE7bRhM-",
        "outputId": "f9228598-91ea-477c-fc67-31a25f929bcd",
        "colab": {
          "base_uri": "https://localhost:8080/"
        }
      },
      "execution_count": 21,
      "outputs": [
        {
          "output_type": "stream",
          "name": "stdout",
          "text": [
            "ingrese una frase:la vida es bella\n",
            "El numero de vocales en la frase es: 6 vocales.\n"
          ]
        }
      ]
    },
    {
      "cell_type": "markdown",
      "source": [
        "**7.\tCalcular el Factorial de un Número:** Usar un bucle while para calcular el factorial de un número ingresado por el usuario. El factorial de un número n (n!) es el producto de todos los números enteros positivos menores o iguales a n."
      ],
      "metadata": {
        "id": "p0utccHiRY6J"
      }
    },
    {
      "cell_type": "code",
      "source": [
        "#Solicitar un numero al usuario\n",
        "numero = int(input(\"Ingrese un numero para calcular su factorial:\"))\n",
        "\n",
        "#inicializar el factorial en 1\n",
        "factorial = 1\n",
        "contador = numero\n",
        "\n",
        "#Calcular el factorial usando un bucle while\n",
        "while contador > 1:\n",
        "   factorial *= contador\n",
        "   contador -= 1\n",
        "\n",
        "#Mostrar el resultado\n",
        "print(f\"El fasctorial de {numero} es: {factorial}\")\n"
      ],
      "metadata": {
        "id": "3hUU8b3eRhik",
        "outputId": "b081c4da-cc2c-4ee3-ce14-7950e7fae074",
        "colab": {
          "base_uri": "https://localhost:8080/"
        }
      },
      "execution_count": 25,
      "outputs": [
        {
          "output_type": "stream",
          "name": "stdout",
          "text": [
            "Ingrese un numero para calcular su factorial:3\n",
            "El fasctorial de 3 es: 6\n"
          ]
        }
      ]
    }
  ]
}